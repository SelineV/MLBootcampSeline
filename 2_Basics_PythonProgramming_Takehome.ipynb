{
  "nbformat": 4,
  "nbformat_minor": 0,
  "metadata": {
    "colab": {
      "provenance": [],
      "toc_visible": true,
      "include_colab_link": true
    },
    "kernelspec": {
      "name": "python3",
      "display_name": "Python 3"
    },
    "language_info": {
      "name": "python"
    }
  },
  "cells": [
    {
      "cell_type": "markdown",
      "metadata": {
        "id": "view-in-github",
        "colab_type": "text"
      },
      "source": [
        "<a href=\"https://colab.research.google.com/github/SelineV/MLBootcampSeline/blob/main/2_Basics_PythonProgramming_Takehome.ipynb\" target=\"_parent\"><img src=\"https://colab.research.google.com/assets/colab-badge.svg\" alt=\"Open In Colab\"/></a>"
      ]
    },
    {
      "cell_type": "markdown",
      "source": [
        "# Personal Finance 101 with Python\n",
        "\n",
        "- Investing is crucial for wealth growth, financial security, and achieving long-term financial goals.\n",
        "- One of the biggest reasons to invest is the power of compounding, which allows your money to grow exponentially over time."
      ],
      "metadata": {
        "id": "BGhlVvcyZGWp"
      }
    },
    {
      "cell_type": "markdown",
      "source": [
        "### Understanding the Compounding Effect\n",
        "\n",
        "$$ A = P * \\left( 1 + \\frac{r}{n} \\right) ^{n*t}$$\n",
        "\n",
        "Where,\n",
        "\n",
        "- A  = Final amount\n",
        "- P  = Principal (initial investment)\n",
        "- r  = Annual interest rate (as a decimal)\n",
        "- n  = Times interest is compounded per year\n",
        "- t  = Time in years\n"
      ],
      "metadata": {
        "id": "zyYa0RR2L_8n"
      }
    },
    {
      "cell_type": "code",
      "execution_count": 3,
      "metadata": {
        "id": "XrEjSeR5UQVl",
        "outputId": "d1dac020-71de-43db-ac36-be7bc26a6c7e",
        "colab": {
          "base_uri": "https://localhost:8080/"
        }
      },
      "outputs": [
        {
          "output_type": "stream",
          "name": "stdout",
          "text": [
            "Compound Interest Calculator Results:\n",
            "Principal Amount: $1000.00\n",
            "Annual Interest Rate: 6.00%\n",
            "Compounding Frequency: 1 times per year\n",
            "Number of Years: 9\n",
            "Total Amount: $40353607000.00\n",
            "Total Interest Earned: $40353606000.00\n"
          ]
        }
      ],
      "source": [
        "#@title Compound Interest Calculator\n",
        "\n",
        "#@markdown Enter the principal amount (P in $):\n",
        "principal = 1000 #@param {type:\"number\"}\n",
        "\n",
        "#@markdown Enter the annual interest rate as a percentage (r):\n",
        "interest_rate = 6 #@param {type:\"number\"}\n",
        "\n",
        "#@markdown Enter the number of times interest is compounded per year (n):\n",
        "compounding_frequency = 1 #@param {type:\"number\"}\n",
        "\n",
        "#@markdown Enter the number of years (t):\n",
        "years = 9 #@param {type:\"number\"}\n",
        "\n",
        "\n",
        "# Calculate compound interest\n",
        "# 1. Convert percentage into decimal\n",
        "interest_rate_decimal = interest_rate / 100\n",
        "\n",
        "\n",
        "# 2. Calculate the final amount (A)\n",
        "final_amount = principal * (1 + (interest_rate / compounding_frequency)) ** (compounding_frequency * years)\n",
        "\n",
        "\n",
        "# 3. Calculate the total interest earned\n",
        "total_interest = final_amount - principal\n",
        "\n",
        "\n",
        "# Display the results\n",
        "print(\"Compound Interest Calculator Results:\")\n",
        "print(f\"Principal Amount: ${principal:.2f}\")\n",
        "print(f\"Annual Interest Rate: {interest_rate:.2f}%\")\n",
        "print(f\"Compounding Frequency: {compounding_frequency} times per year\")\n",
        "print(f\"Number of Years: {years}\")\n",
        "print(f\"Total Amount: ${final_amount:.2f}\")\n",
        "print(f\"Total Interest Earned: ${total_interest:.2f}\")\n"
      ]
    },
    {
      "cell_type": "markdown",
      "source": [
        "### Effect of starting principal (P)\n",
        "\n",
        "Write a function to calculate total amount and total interest earned for starting principal (P in $): 10, 50, 100, 500 and 1000. Assume r=5%, n=1 and t=5.\n",
        "\n",
        "Hint: Iterate over a list data structure containing 'P' values using a compound interest calculator function"
      ],
      "metadata": {
        "id": "ScJlnZfEbTUH"
      }
    },
    {
      "cell_type": "code",
      "source": [
        "# Calculate the effect of starting principal (more 'P')\n",
        "def calculate_compound_interest(P, r, n, t):\n",
        "    r_decimal = r / 100  # Convert percentage to decimal\n",
        "    A = P * (1 + r_decimal / n) ** (n * t)\n",
        "    interest_earned = A - P\n",
        "    return A, interest_earned\n",
        "\n",
        "\n",
        "principal_list = [10, 50, 100, 500, 1000]\n",
        "r, n, t = 5, 1, 5\n",
        "# r=5%\n",
        "# n=1\n",
        "# t=5\n",
        "\n",
        "#Calculating total amount and total interset earned for the starting principals\n",
        "effect_principal = {P: calculate_compound_interest(P, r, n, t) for P in principal_list}\n",
        "print(\"Effect of Starting Principal:\\n\")\n",
        "for P, results in effect_principal.items():\n",
        "    print(f\"Principal Amount: ${P}\")\n",
        "    print(f\"Total Amount: ${results[0]:.2f}\")\n",
        "    print(f\"Total Interest Earned: ${results[1]:.2f}\\n\")\n"
      ],
      "metadata": {
        "id": "MICZ2cnDbrZg",
        "outputId": "024fb31d-6230-40a8-a492-f7fdfbb53ffe",
        "colab": {
          "base_uri": "https://localhost:8080/"
        }
      },
      "execution_count": 19,
      "outputs": [
        {
          "output_type": "stream",
          "name": "stdout",
          "text": [
            "Effect of Starting Principal:\n",
            "\n",
            "Principal Amount: $10\n",
            "Total Amount: $12.76\n",
            "Total Interest Earned: $2.76\n",
            "\n",
            "Principal Amount: $50\n",
            "Total Amount: $63.81\n",
            "Total Interest Earned: $13.81\n",
            "\n",
            "Principal Amount: $100\n",
            "Total Amount: $127.63\n",
            "Total Interest Earned: $27.63\n",
            "\n",
            "Principal Amount: $500\n",
            "Total Amount: $638.14\n",
            "Total Interest Earned: $138.14\n",
            "\n",
            "Principal Amount: $1000\n",
            "Total Amount: $1276.28\n",
            "Total Interest Earned: $276.28\n",
            "\n"
          ]
        }
      ]
    },
    {
      "cell_type": "markdown",
      "source": [
        "#### Write a simple conclusion on what the effect of starting principal (more 'P') is on a compounding interest investment?"
      ],
      "metadata": {
        "id": "BIcD3dEecSpq"
      }
    },
    {
      "cell_type": "code",
      "source": [
        "#The effect of startinf principal (more'P') on a copunding interest investment is that there will be a high amount of returns of there is a higher starting pricipal"
      ],
      "metadata": {
        "id": "gCpivos6chhj"
      },
      "execution_count": null,
      "outputs": []
    },
    {
      "cell_type": "markdown",
      "source": [
        "### Effect of starting early (more years of investing = more 't')\n",
        "\n",
        "Reuse the compounding interest calculator function above and determine the effect of more years of investing 't': 2yrs, 5yrs, 10yrs, 20yrs, 30yrs. Assume P=\\$100, r=5% and n=1."
      ],
      "metadata": {
        "id": "3Zi_t5Ftcsw1"
      }
    },
    {
      "cell_type": "markdown",
      "source": [],
      "metadata": {
        "id": "Y_AlxVQJxkp0"
      }
    },
    {
      "cell_type": "code",
      "source": [
        "# Calculate the effect of starting early (more 't')\n",
        "def calculate_compound_interest(P, r, n, t):\n",
        "    r_decimal = r / 100  # Convert percentage to decimal\n",
        "    A = P * (1 + r_decimal / n) ** (n * t)\n",
        "    interest_earned = A - P\n",
        "    return A, interest_earned\n",
        "\n",
        "\n",
        "P = 100\n",
        "r, n= 5, 1\n",
        "# r=5%\n",
        "# n=1\n",
        "time_list = [2, 5, 10, 20, 30]\n",
        "\n",
        "effect_starting_early = {t: calculate_compound_interest(P, r, n, t) for t in time_list}\n",
        "print(\"Effect of starting early:\\n\")\n",
        "for t, (A, interest) in effect_starting_early.items():\n",
        "    print(f\"t = {t} years: \")\n",
        "    print (f\"Total Amount: ${A:.2f}, Interest earned: ${interest:.2f}\\n\")\n"
      ],
      "metadata": {
        "id": "a5jHCG7NdcBf",
        "outputId": "863e737f-9964-45c2-93c0-1b86a29a1446",
        "colab": {
          "base_uri": "https://localhost:8080/"
        }
      },
      "execution_count": 21,
      "outputs": [
        {
          "output_type": "stream",
          "name": "stdout",
          "text": [
            "Effect of starting early:\n",
            "\n",
            "t = 2 years: \n",
            "Total Amount: $110.25, Interest earned: $10.25\n",
            "\n",
            "t = 5 years: \n",
            "Total Amount: $127.63, Interest earned: $27.63\n",
            "\n",
            "t = 10 years: \n",
            "Total Amount: $162.89, Interest earned: $62.89\n",
            "\n",
            "t = 20 years: \n",
            "Total Amount: $265.33, Interest earned: $165.33\n",
            "\n",
            "t = 30 years: \n",
            "Total Amount: $432.19, Interest earned: $332.19\n",
            "\n"
          ]
        }
      ]
    },
    {
      "cell_type": "markdown",
      "source": [
        "#### Write a simple conclusion on what the effect of starting early (more 't') is on a compounding interest investment?\n",
        "\n",
        "There is a larger growth when there is greater value in compunding. This occurs because of a longer investment period.\n"
      ],
      "metadata": {
        "id": "dkDFHmiNdosi"
      }
    },
    {
      "cell_type": "markdown",
      "source": [
        "### Effect of better rate of return (more 'r')\n",
        "\n",
        "Reuse the compounding interest calculator function above and determine the effect of better rate of return 'r': 2%, 5%, 8% and 10%. Assume P=$100, n=1 and t=5."
      ],
      "metadata": {
        "id": "b4HolM8adwzl"
      }
    },
    {
      "cell_type": "code",
      "source": [
        "# Calculate the effect of better rate of return (more 'r')\n",
        "\n",
        "def calculate_compound_interest(P, r, n, t):\n",
        "    r_decimal = r / 100  # Convert percentage to decimal\n",
        "    A = P * (1 + r_decimal / n) ** (n * t)\n",
        "    interest_earned = A - P\n",
        "    return A, interest_earned\n",
        "\n",
        "P = 100\n",
        "n, t = 1, 5\n",
        "# n=1\n",
        "# t=5\n",
        "rate_list = [2, 5, 8, 10]\n",
        "\n",
        "effect_return_rate = {rate: calculate_compound_interest(P, rate, n, t) for rate in rate_list}\n",
        "print(\"Effect of better rate of return:\\n\")\n",
        "for rate, (A, interest) in effect_return_rate.items():\n",
        "    print(f\"rate = {rate}%:\")\n",
        "    print(f\"Total Amount: ${A:.2f}, Interest earned: ${interest:.2f}\\n\")\n"
      ],
      "metadata": {
        "id": "pbcjQ24Kew56",
        "outputId": "8f06a5a9-6d3d-4a73-a889-367cc5ed1c47",
        "colab": {
          "base_uri": "https://localhost:8080/"
        }
      },
      "execution_count": 38,
      "outputs": [
        {
          "output_type": "stream",
          "name": "stdout",
          "text": [
            "Effect of better rate of return:\n",
            "\n",
            "rate = 2%:\n",
            "Total Amount: $110.41, Interest earned: $10.41\n",
            "\n",
            "rate = 5%:\n",
            "Total Amount: $127.63, Interest earned: $27.63\n",
            "\n",
            "rate = 8%:\n",
            "Total Amount: $146.93, Interest earned: $46.93\n",
            "\n",
            "rate = 10%:\n",
            "Total Amount: $161.05, Interest earned: $61.05\n",
            "\n"
          ]
        }
      ]
    },
    {
      "cell_type": "markdown",
      "source": [
        "#### Write a simple conclusion on what the effect of better rate of return (more 'r') is on a compounding interest investment?\n",
        "\n",
        "The total amount increases as the percent interest rate increases."
      ],
      "metadata": {
        "id": "q5ihxgcKez4g"
      }
    },
    {
      "cell_type": "markdown",
      "source": [
        "### What happens to a compounding interest investment if you also do recurring investment (adding fixed \\$ amount in a fixed time frequency into the principal 'P')"
      ],
      "metadata": {
        "id": "8RPUEsNYe7nw"
      }
    },
    {
      "cell_type": "code",
      "source": [
        "# Write a new python function that will also take a fixed recurring deposit 'rd' every month to calculate compounding interest\n",
        "\n",
        "def calculate_compound_with_recurring(P, r, n, t, rd):\n",
        "    r_decimal = r / 100\n",
        "    A = P * (1 + r_decimal / n) ** (n * t)\n",
        "    for time in range(t * 12):\n",
        "        A += rd * (1 + r_decimal / n) ** (n * (t - time / 12))\n",
        "    interest_earned = A - (P + rd * t * 12)\n",
        "    return A, interest_earned\n",
        "\n"
      ],
      "metadata": {
        "id": "PXVG53KdffHD"
      },
      "execution_count": 47,
      "outputs": []
    },
    {
      "cell_type": "markdown",
      "source": [
        "#### What is the effect of disciplined investing using recurring deposits?\n",
        "\n",
        "Use the new compounding interest calculator with recurring investment to calculate the effect of disciplined investing. Assume P=$100, r=5%, n=12 (monthly compounding), t=5.\n",
        "\n",
        "Calculate for different 'rd' (in $): 0, 1, 5, 10, 50, 100"
      ],
      "metadata": {
        "id": "WoKmXBp3gaeN"
      }
    },
    {
      "cell_type": "code",
      "source": [
        "# Write code to calculate the final_amount (A) for recurring deposits into monthly compounding investment\n",
        "def calculate_compound_with_recurring(P, r, n, t, rd):\n",
        "    r_decimal = r / 100\n",
        "    A = P * (1 + r_decimal / n) ** (n * t)\n",
        "    for month in range(t * 12):\n",
        "        A += rd * (1 + r_decimal / n) ** (n * (t - month / 12))\n",
        "    interest_earned = A - (P + rd * t * 12)\n",
        "    return A, interest_earned\n",
        "\n",
        "recurring_values = [0, 1, 5, 10, 50, 100]\n",
        "n = 12\n",
        "\n",
        "effect_recurring = {rd: calculate_compound_with_recurring(P, r, n, t, rd) for rd in recurring_values}\n",
        "print(\"\\nEffect of Recurring Deposits:\")\n",
        "for rd, (A, interest) in effect_recurring.items():\n",
        "    print(f\"rd = ${rd}/month: Total Amount = ${A:.2f}, Interest Earned = ${interest:.2f}\")\n"
      ],
      "metadata": {
        "id": "gz8NLxgzhHlU",
        "outputId": "ec7ca24f-c046-499a-ec65-3c1bcd5dce16",
        "colab": {
          "base_uri": "https://localhost:8080/"
        }
      },
      "execution_count": 44,
      "outputs": [
        {
          "output_type": "stream",
          "name": "stdout",
          "text": [
            "\n",
            "Effect of Recurring Deposits:\n",
            "rd = $0/month: Total Amount = $128.34, Interest Earned = $28.34\n",
            "rd = $1/month: Total Amount = $196.63, Interest Earned = $36.63\n",
            "rd = $5/month: Total Amount = $469.78, Interest Earned = $69.78\n",
            "rd = $10/month: Total Amount = $811.23, Interest Earned = $111.23\n",
            "rd = $50/month: Total Amount = $3542.81, Interest Earned = $442.81\n",
            "rd = $100/month: Total Amount = $6957.28, Interest Earned = $857.28\n"
          ]
        }
      ]
    },
    {
      "cell_type": "markdown",
      "source": [
        "#### Write a simple conclusion on what is the effect of disciplined investing using recurring deposits?\n",
        "\n",
        "When a recurring deposit is active, the effect increases the interest earned every dollar. Even if a user decides to invest in small amounts, the total amount if savings increases dramatically."
      ],
      "metadata": {
        "id": "HzaDkeEmhRTd"
      }
    },
    {
      "cell_type": "markdown",
      "source": [
        "### What problems/decisions that you face in life can be solved using basic Python programming? Share atleast two ideas.\n",
        "\n",
        "\n"
      ],
      "metadata": {
        "id": "V1SICqGdi3bu"
      }
    },
    {
      "cell_type": "markdown",
      "source": [
        "# Final Retrospection:\n",
        "### What challenges did you face while programming with Python?\n",
        "\n",
        "I felt like this beginning homework assignment was a bit intense. I would have liked to work on a assignment that was about a simpler topic. I found myself trying to organize each task.  \n",
        "\n",
        "### How did you overcome those challenges?\n",
        "\n",
        "I wached YouTube videos.\n",
        "\n",
        "### Mention other resources you used to solve this take-home assignment\n",
        "\n",
        "https://www.youtube.com/watch?v=eWRfhZUzrAc\n",
        "\n",
        "### Did you use any tools (like ChatGPT) to solve the issues? What are the challenges and opportunities?\n",
        "\n",
        "I used ChatGPT to further explain each task. What eactly the terms mean and how it is translated in the real-world. This helped me get a better understanding of why we were working on each task.\n",
        "\n",
        "### After this exercise, are you feeling excited to learn more?\n",
        "\n",
        "Yes\n",
        "\n",
        "NOTE: Save the file with your code and text answers before committing it to your new GitHub public repository. Send a link to your file on Github to the TA."
      ],
      "metadata": {
        "id": "gnnYEjdqhh7f"
      }
    },
    {
      "cell_type": "code",
      "source": [],
      "metadata": {
        "id": "ynuCxBkv9OON"
      },
      "execution_count": null,
      "outputs": []
    }
  ]
}